{
  "nbformat": 4,
  "nbformat_minor": 0,
  "metadata": {
    "colab": {
      "name": "TwitterEqualizerFinal.ipynb",
      "provenance": [],
      "collapsed_sections": [],
      "authorship_tag": "ABX9TyMPKGilaCj9tz5zIulg/lwV",
      "include_colab_link": true
    },
    "kernelspec": {
      "name": "python3",
      "display_name": "Python 3"
    }
  },
  "cells": [
    {
      "cell_type": "markdown",
      "metadata": {
        "id": "view-in-github",
        "colab_type": "text"
      },
      "source": [
        "<a href=\"https://colab.research.google.com/github/AmaaniGoose/AmaaniGoose.github.io/blob/master/TwitterEqualizerFinal.ipynb\" target=\"_parent\"><img src=\"https://colab.research.google.com/assets/colab-badge.svg\" alt=\"Open In Colab\"/></a>"
      ]
    },
    {
      "cell_type": "markdown",
      "metadata": {
        "id": "WtOmzwbA51oP"
      },
      "source": [
        "# Twitter Friendship Equalizer"
      ]
    },
    {
      "cell_type": "markdown",
      "metadata": {
        "id": "B5EQHVmM58J3"
      },
      "source": [
        "This notebook is for those users who have two different twitter accounts and want to normalize the timeline experience between the two, or if you just made a new twitter account and want to get your old follows back"
      ]
    },
    {
      "cell_type": "code",
      "metadata": {
        "id": "R6wgOoPP6fIY"
      },
      "source": [
        "import requests \r\n",
        "from requests_oauthlib import OAuth1\r\n",
        "import json \r\n",
        "import tweepy\r\n",
        "import time\r\n",
        "import tqdm\r\n",
        "from tqdm import trange"
      ],
      "execution_count": null,
      "outputs": []
    },
    {
      "cell_type": "code",
      "metadata": {
        "id": "w8rVQI5t6ge3"
      },
      "source": [
        "youruser=input(\"Enter your Screen Name: \")"
      ],
      "execution_count": null,
      "outputs": []
    },
    {
      "cell_type": "code",
      "metadata": {
        "id": "jXAtHN9H6h1X"
      },
      "source": [
        "# From your app settings page\r\n",
        "CONSUMER_KEY = \"\"\r\n",
        "CONSUMER_SECRET = \"\"\r\n",
        "\r\n",
        "auth = tweepy.OAuthHandler(CONSUMER_KEY, CONSUMER_SECRET,\"oob\")\r\n",
        "auth.secure = True\r\n",
        "auth_url = auth.get_authorization_url()\r\n",
        "\r\n",
        "print('Please authorize: ' + auth_url)\r\n",
        "\r\n",
        "verifier = input('PIN: ').strip()\r\n",
        "\r\n",
        "auth.get_access_token(verifier)"
      ],
      "execution_count": null,
      "outputs": []
    },
    {
      "cell_type": "code",
      "metadata": {
        "id": "P85sz80r6ssG"
      },
      "source": [
        "print(\"ACCESS_KEY = '%s'\" % auth.access_token)\r\n",
        "print(\"ACCESS_SECRET = '%s'\" % auth.access_token_secret)"
      ],
      "execution_count": null,
      "outputs": []
    },
    {
      "cell_type": "code",
      "metadata": {
        "id": "fB6Qs7tN6uq3"
      },
      "source": [
        "key=auth.access_token\r\n",
        "secret=auth.access_token_secret"
      ],
      "execution_count": null,
      "outputs": []
    },
    {
      "cell_type": "code",
      "metadata": {
        "id": "2GjM37Q86wRn"
      },
      "source": [
        "auth = tweepy.OAuthHandler(CONSUMER_KEY, CONSUMER_SECRET)\r\n",
        "auth.set_access_token(key, secret)"
      ],
      "execution_count": null,
      "outputs": []
    },
    {
      "cell_type": "code",
      "metadata": {
        "id": "k1bW0WNf6xff"
      },
      "source": [
        "api = tweepy.API(auth)\r\n"
      ],
      "execution_count": null,
      "outputs": []
    },
    {
      "cell_type": "code",
      "metadata": {
        "id": "c0KS9PIT7NyH"
      },
      "source": [
        "def getfollows(screenname=\"\"):\r\n",
        "    ids = []\r\n",
        "    for friend in tweepy.Cursor(api.friends, screenname).items(): \r\n",
        "        ids.append(friend.screen_name) \r\n",
        "    return ids"
      ],
      "execution_count": null,
      "outputs": []
    },
    {
      "cell_type": "code",
      "metadata": {
        "id": "Ip92NTZm61Go"
      },
      "source": [
        "list1=getfollows()\r\n",
        "\r\n",
        "print(list1)"
      ],
      "execution_count": null,
      "outputs": []
    },
    {
      "cell_type": "code",
      "metadata": {
        "colab": {
          "base_uri": "https://localhost:8080/"
        },
        "id": "dUXRJmWr62k3",
        "outputId": "a15c852b-a4e4-4122-e4d9-019f4534c109"
      },
      "source": [
        "ToEqualUser=input(\"Enter the Screen Name of the user whom you want to equalize with: \")"
      ],
      "execution_count": null,
      "outputs": [
        {
          "output_type": "stream",
          "text": [
            "Enter the Screen Name of the user whom you want to equalize with: amaanigoose\n"
          ],
          "name": "stdout"
        }
      ]
    },
    {
      "cell_type": "code",
      "metadata": {
        "id": "2IHiOSdx64Vv"
      },
      "source": [
        "list2=getfollows(ToEqualUser)"
      ],
      "execution_count": null,
      "outputs": []
    },
    {
      "cell_type": "code",
      "metadata": {
        "id": "2IY5y741651_"
      },
      "source": [
        "print(list2)\r\n",
        "print(len(list2))"
      ],
      "execution_count": null,
      "outputs": []
    },
    {
      "cell_type": "code",
      "metadata": {
        "id": "FL6aN4Hw67HX"
      },
      "source": [
        "def difference(list1, list2): \r\n",
        "    return set(list1).difference(set(list2)) \r\n",
        "\r\n",
        "print(f\"Present in {youruser} but not in {ToEqualUser}\")\r\n",
        "difference1=difference(list1,list2)\r\n",
        "print(difference1) \r\n",
        "print(len(difference1))\r\n",
        "\r\n",
        "print(f\"Present in {ToEqualUser} but not in {youruser}\")\r\n",
        "difference2=difference(list2,list1)\r\n",
        "print(difference2) \r\n",
        "print(len(difference2))"
      ],
      "execution_count": null,
      "outputs": []
    },
    {
      "cell_type": "code",
      "metadata": {
        "id": "tc61_Fo_6-Hv"
      },
      "source": [
        "ToFollow=list(difference2)\r\n",
        "\r\n",
        "for i in trange(0,len(ToFollow)):\r\n",
        "    api.create_friendship(ToFollow[i])"
      ],
      "execution_count": null,
      "outputs": []
    }
  ]
}